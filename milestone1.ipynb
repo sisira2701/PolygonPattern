{
 "cells": [
  {
   "cell_type": "code",
   "execution_count": 5,
   "metadata": {},
   "outputs": [],
   "source": [
    "m1 = open(\"Format_Source.txt\",\"r+\")"
   ]
  },
  {
   "cell_type": "code",
   "execution_count": 6,
   "metadata": {},
   "outputs": [
    {
     "data": {
      "text/plain": [
       "''"
      ]
     },
     "execution_count": 6,
     "metadata": {},
     "output_type": "execute_result"
    }
   ],
   "source": [
    "m1.read()"
   ]
  },
  {
   "cell_type": "code",
   "execution_count": 14,
   "metadata": {},
   "outputs": [],
   "source": [
    "def lines(n,m,file_n):\n",
    "    lst = []\n",
    "    with open(file_n) as file:  # the a opens it in append mode\n",
    "        for i in range(n,m):\n",
    "            line = next(file).strip()\n",
    "            lst.append(line)\n",
    "        \n",
    "    return lst"
   ]
  },
  {
   "cell_type": "code",
   "execution_count": 15,
   "metadata": {},
   "outputs": [
    {
     "ename": "AttributeError",
     "evalue": "'str' object has no attribute 'read'",
     "output_type": "error",
     "traceback": [
      "\u001b[1;31m---------------------------------------------------------------------------\u001b[0m",
      "\u001b[1;31mAttributeError\u001b[0m                            Traceback (most recent call last)",
      "\u001b[1;32m<ipython-input-15-1f1930a4c2f4>\u001b[0m in \u001b[0;36m<module>\u001b[1;34m\u001b[0m\n\u001b[1;32m----> 1\u001b[1;33m \u001b[0mlines\u001b[0m\u001b[1;33m(\u001b[0m\u001b[1;36m0\u001b[0m\u001b[1;33m,\u001b[0m\u001b[1;36m10\u001b[0m\u001b[1;33m,\u001b[0m\u001b[1;34m\"Format_Source.txt\"\u001b[0m\u001b[1;33m)\u001b[0m\u001b[1;33m\u001b[0m\u001b[1;33m\u001b[0m\u001b[0m\n\u001b[0m",
      "\u001b[1;32m<ipython-input-14-fb1ea38adce8>\u001b[0m in \u001b[0;36mlines\u001b[1;34m(n, m, file_n)\u001b[0m\n\u001b[0;32m      5\u001b[0m             \u001b[0mline\u001b[0m \u001b[1;33m=\u001b[0m \u001b[0mnext\u001b[0m\u001b[1;33m(\u001b[0m\u001b[0mfile\u001b[0m\u001b[1;33m)\u001b[0m\u001b[1;33m.\u001b[0m\u001b[0mstrip\u001b[0m\u001b[1;33m(\u001b[0m\u001b[1;33m)\u001b[0m\u001b[1;33m\u001b[0m\u001b[1;33m\u001b[0m\u001b[0m\n\u001b[0;32m      6\u001b[0m             \u001b[0mlst\u001b[0m\u001b[1;33m.\u001b[0m\u001b[0mappend\u001b[0m\u001b[1;33m(\u001b[0m\u001b[0mline\u001b[0m\u001b[1;33m)\u001b[0m\u001b[1;33m\u001b[0m\u001b[1;33m\u001b[0m\u001b[0m\n\u001b[1;32m----> 7\u001b[1;33m         \u001b[0mlines\u001b[0m \u001b[1;33m=\u001b[0m \u001b[0mfile_n\u001b[0m\u001b[1;33m.\u001b[0m\u001b[0mread\u001b[0m\u001b[1;33m(\u001b[0m\u001b[1;33m)\u001b[0m\u001b[1;33m.\u001b[0m\u001b[0msplitlines\u001b[0m\u001b[1;33m(\u001b[0m\u001b[1;33m)\u001b[0m\u001b[1;33m\u001b[0m\u001b[1;33m\u001b[0m\u001b[0m\n\u001b[0m\u001b[0;32m      8\u001b[0m         \u001b[1;32mreturn\u001b[0m \u001b[0mlines\u001b[0m\u001b[1;33m\u001b[0m\u001b[1;33m\u001b[0m\u001b[0m\n\u001b[0;32m      9\u001b[0m     \u001b[1;32mreturn\u001b[0m \u001b[0mlst\u001b[0m\u001b[1;33m\u001b[0m\u001b[1;33m\u001b[0m\u001b[0m\n",
      "\u001b[1;31mAttributeError\u001b[0m: 'str' object has no attribute 'read'"
     ]
    }
   ],
   "source": [
    "lines(0,10,\"Format_Source.txt\")"
   ]
  },
  {
   "cell_type": "code",
   "execution_count": 19,
   "metadata": {},
   "outputs": [],
   "source": [
    "def flist(file):\n",
    "    with open(file) as f:\n",
    "        lines = f.read().splitlines()\n",
    "    return lines"
   ]
  },
  {
   "cell_type": "code",
   "execution_count": 24,
   "metadata": {},
   "outputs": [
    {
     "data": {
      "text/plain": [
       "['header 600 ',\n",
       " 'bgnlib 1/19/2023 19:25:24 1/19/2023 19:25:24 ',\n",
       " 'libname egdslib',\n",
       " 'units 0.0001 1e-10 ',\n",
       " '',\n",
       " 'bgnstr 1/19/2023 19:25:24 1/19/2023 19:25:24 ',\n",
       " 'strname top',\n",
       " '']"
      ]
     },
     "execution_count": 24,
     "metadata": {},
     "output_type": "execute_result"
    }
   ],
   "source": [
    "m1 = flist('Format_Source.txt')\n",
    "header = m1[:8]"
   ]
  },
  {
   "cell_type": "code",
   "execution_count": 44,
   "metadata": {},
   "outputs": [],
   "source": [
    "def split(f):\n",
    "    header = f[:8]\n",
    "    polys = f[8:-2]\n",
    "    foot = f[-2:]\n",
    "    return header, polys, foot"
   ]
  },
  {
   "cell_type": "code",
   "execution_count": 45,
   "metadata": {},
   "outputs": [],
   "source": [
    "header, polys, foot = split(m1)"
   ]
  },
  {
   "cell_type": "code",
   "execution_count": 46,
   "metadata": {},
   "outputs": [
    {
     "data": {
      "text/plain": [
       "(['boundary',\n",
       "  'layer 1',\n",
       "  'datatype 0',\n",
       "  'xy  5  -1490 2850  -1490 6200  -260 6200  -260 2850  -1490 2850',\n",
       "  'endel',\n",
       "  'boundary',\n",
       "  'layer 1',\n",
       "  'datatype 0',\n",
       "  'xy  5  -1270 -1450  -1270 2220  -180 2220  -180 -1450  -1270 -1450',\n",
       "  'endel',\n",
       "  'boundary',\n",
       "  'layer 1',\n",
       "  'datatype 0',\n",
       "  'xy  5  1290 3610  1290 6010  2460 6010  2460 3610  1290 3610',\n",
       "  'endel',\n",
       "  'boundary',\n",
       "  'layer 1',\n",
       "  'datatype 0',\n",
       "  'xy  5  1430 240  1430 2830  2850 2830  2850 240  1430 240',\n",
       "  'endel',\n",
       "  'boundary',\n",
       "  'layer 1',\n",
       "  'datatype 0',\n",
       "  'xy  5  3850 2560  3850 4640  4940 4640  4940 2560  3850 2560',\n",
       "  'endel'],\n",
       " ['endstr', 'endlib'])"
      ]
     },
     "execution_count": 46,
     "metadata": {},
     "output_type": "execute_result"
    }
   ],
   "source": [
    "polys, foot"
   ]
  },
  {
   "cell_type": "code",
   "execution_count": 51,
   "metadata": {},
   "outputs": [],
   "source": [
    "def poly_in(p,start,n):\n",
    "    off = start*5\n",
    "    lst = []\n",
    "    while(off<n*5):\n",
    "        lay = p[off+1]\n",
    "        num = p[off+3][4]\n",
    "        cord = p[off+3][7:]\n",
    "        off+=5\n",
    "#         print(lay)\n",
    "#         print(num)\n",
    "#         print(cord)\n",
    "        temp = []\n",
    "        temp.append(lay)\n",
    "        temp.append(num)\n",
    "        temp.append(cord)\n",
    "        lst.append(temp)\n",
    "    return lst"
   ]
  },
  {
   "cell_type": "code",
   "execution_count": 52,
   "metadata": {},
   "outputs": [
    {
     "data": {
      "text/plain": [
       "[['layer 1', '5', '-1490 2850  -1490 6200  -260 6200  -260 2850  -1490 2850'],\n",
       " ['layer 1',\n",
       "  '5',\n",
       "  '-1270 -1450  -1270 2220  -180 2220  -180 -1450  -1270 -1450']]"
      ]
     },
     "execution_count": 52,
     "metadata": {},
     "output_type": "execute_result"
    }
   ],
   "source": [
    "poly_lst = poly_in(polys,0,2)\n",
    "poly_lst"
   ]
  },
  {
   "cell_type": "code",
   "execution_count": 77,
   "metadata": {},
   "outputs": [],
   "source": [
    "def poly_out(poly_lst):\n",
    "    off = 0\n",
    "    n = len(poly_lst)\n",
    "    out = []\n",
    "    while(off<n):\n",
    "        out.append('boundary')\n",
    "        out.append(poly_lst[off][0])\n",
    "        out.append('datatype 0')\n",
    "#         print(poly_lst[off])\n",
    "        out.append('xy  '+poly_lst[off][1]+'  '+poly_lst[off][2])\n",
    "        out.append('endel')\n",
    "#         out.append()\n",
    "        off+=1\n",
    "    print(out)\n",
    "    return out  "
   ]
  },
  {
   "cell_type": "code",
   "execution_count": 78,
   "metadata": {},
   "outputs": [
    {
     "name": "stdout",
     "output_type": "stream",
     "text": [
      "['boundary', 'layer 1', 'datatype 0', 'xy  5  -1490 2850  -1490 6200  -260 6200  -260 2850  -1490 2850', 'endel', 'boundary', 'layer 1', 'datatype 0', 'xy  5  -1270 -1450  -1270 2220  -180 2220  -180 -1450  -1270 -1450', 'endel']\n"
     ]
    },
    {
     "data": {
      "text/plain": [
       "['boundary',\n",
       " 'layer 1',\n",
       " 'datatype 0',\n",
       " 'xy  5  -1490 2850  -1490 6200  -260 6200  -260 2850  -1490 2850',\n",
       " 'endel',\n",
       " 'boundary',\n",
       " 'layer 1',\n",
       " 'datatype 0',\n",
       " 'xy  5  -1270 -1450  -1270 2220  -180 2220  -180 -1450  -1270 -1450',\n",
       " 'endel']"
      ]
     },
     "execution_count": 78,
     "metadata": {},
     "output_type": "execute_result"
    }
   ],
   "source": [
    "poly_op = poly_out(poly_lst)\n",
    "poly_op"
   ]
  },
  {
   "cell_type": "code",
   "execution_count": 79,
   "metadata": {},
   "outputs": [],
   "source": [
    "def lst_file(header,poly_op,foot):\n",
    "    out_lst = header+poly_op+foot\n",
    "    print(out_lst)\n",
    "    with open(r'milestone1.txt', 'w') as fp:\n",
    "        for item in out_lst:\n",
    "            # write each item on a new line\n",
    "            fp.write(\"%s\\n\" % item)\n",
    "        print('Done')"
   ]
  },
  {
   "cell_type": "code",
   "execution_count": 80,
   "metadata": {},
   "outputs": [
    {
     "name": "stdout",
     "output_type": "stream",
     "text": [
      "['header 600 ', 'bgnlib 1/19/2023 19:25:24 1/19/2023 19:25:24 ', 'libname egdslib', 'units 0.0001 1e-10 ', '', 'bgnstr 1/19/2023 19:25:24 1/19/2023 19:25:24 ', 'strname top', '', 'boundary', 'layer 1', 'datatype 0', 'xy  5  -1490 2850  -1490 6200  -260 6200  -260 2850  -1490 2850', 'endel', 'boundary', 'layer 1', 'datatype 0', 'xy  5  -1270 -1450  -1270 2220  -180 2220  -180 -1450  -1270 -1450', 'endel', 'endstr', 'endlib']\n",
      "Done\n"
     ]
    }
   ],
   "source": [
    "lst_file(header,poly_op,foot)"
   ]
  },
  {
   "cell_type": "code",
   "execution_count": null,
   "metadata": {},
   "outputs": [],
   "source": []
  }
 ],
 "metadata": {
  "kernelspec": {
   "display_name": "Python 3",
   "language": "python",
   "name": "python3"
  },
  "language_info": {
   "codemirror_mode": {
    "name": "ipython",
    "version": 3
   },
   "file_extension": ".py",
   "mimetype": "text/x-python",
   "name": "python",
   "nbconvert_exporter": "python",
   "pygments_lexer": "ipython3",
   "version": "3.7.4"
  }
 },
 "nbformat": 4,
 "nbformat_minor": 2
}
